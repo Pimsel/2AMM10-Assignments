{
  "cells": [
    {
      "cell_type": "markdown",
      "metadata": {
        "id": "7wv9q_pcGshE"
      },
      "source": [
        "# Assignment 2 2AMM10 2023-2024\n",
        "\n",
        "## Group: [Shash_Kas_Pim]\n",
        "### Member 1: [Shashank Prabhu]\n",
        "### Member 2: [Kasra Gheytuli]\n",
        "### Member 3: [Pim de Wildt]"
      ]
    },
    {
      "cell_type": "markdown",
      "metadata": {
        "id": "cQzvuDWw_Eyw"
      },
      "source": [
        "We need to install some specific libraries. The cell below installs torch_geometric for torch 2.6.0+cu124. In case the current version of torch is different, check [here](https://pytorch-geometric.readthedocs.io/en/latest/install/installation.html) to see which versions (of both libraries) you should install. You might also need to install an old version of torch from [here](https://pytorch.org/get-started/previous-versions/)\n",
        "\n",
        "**Note:** Do not install pyg_lib from the optional dependencies"
      ]
    },
    {
      "cell_type": "code",
      "execution_count": null,
      "metadata": {
        "id": "ibC2lMHfD67H"
      },
      "outputs": [
        {
          "name": "stdout",
          "output_type": "stream",
          "text": [
            "Name: torch\n",
            "Version: 2.7.0+cu128\n",
            "Summary: Tensors and Dynamic neural networks in Python with strong GPU acceleration\n",
            "Home-page: https://pytorch.org/\n",
            "Author: PyTorch Team\n",
            "Author-email: packages@pytorch.org\n",
            "License: BSD-3-Clause\n",
            "Location: C:\\Users\\shash\\OneDrive - TU Eindhoven\\Shashank Prabhu University\\Masters DSAI\\Q4\\2AMM10 Deep Learning\\2AMM10-Assignments\\venv\\Lib\\site-packages\n",
            "Requires: filelock, fsspec, jinja2, networkx, sympy, typing-extensions\n",
            "Required-by: torchaudio, torchvision\n"
          ]
        }
      ],
      "source": [
        "!pip show torch"
      ]
    },
    {
      "cell_type": "code",
      "execution_count": null,
      "metadata": {
        "id": "8qrPQFNe_AJu"
      },
      "outputs": [
        {
          "name": "stdout",
          "output_type": "stream",
          "text": [
            "Collecting rdkit\n",
            "  Downloading rdkit-2025.3.3-cp311-cp311-win_amd64.whl.metadata (4.1 kB)\n",
            "Requirement already satisfied: numpy in c:\\users\\shash\\onedrive - tu eindhoven\\shashank prabhu university\\masters dsai\\q4\\2amm10 deep learning\\2amm10-assignments\\venv\\lib\\site-packages (from rdkit) (2.1.2)\n",
            "Requirement already satisfied: Pillow in c:\\users\\shash\\onedrive - tu eindhoven\\shashank prabhu university\\masters dsai\\q4\\2amm10 deep learning\\2amm10-assignments\\venv\\lib\\site-packages (from rdkit) (11.0.0)\n",
            "Downloading rdkit-2025.3.3-cp311-cp311-win_amd64.whl (22.4 MB)\n",
            "   ---------------------------------------- 0.0/22.4 MB ? eta -:--:--\n",
            "   ------ --------------------------------- 3.7/22.4 MB 27.3 MB/s eta 0:00:01\n",
            "   ------------------ --------------------- 10.5/22.4 MB 29.8 MB/s eta 0:00:01\n",
            "   ----------------------------- ---------- 16.8/22.4 MB 30.2 MB/s eta 0:00:01\n",
            "   ---------------------------------------  22.3/22.4 MB 30.7 MB/s eta 0:00:01\n",
            "   ---------------------------------------- 22.4/22.4 MB 29.0 MB/s eta 0:00:00\n",
            "Installing collected packages: rdkit\n",
            "Successfully installed rdkit-2025.3.3\n"
          ]
        },
        {
          "name": "stderr",
          "output_type": "stream",
          "text": [
            "\n",
            "[notice] A new release of pip is available: 25.1 -> 25.1.1\n",
            "[notice] To update, run: python.exe -m pip install --upgrade pip\n"
          ]
        },
        {
          "name": "stdout",
          "output_type": "stream",
          "text": [
            "Collecting torch_geometric\n",
            "  Downloading torch_geometric-2.6.1-py3-none-any.whl.metadata (63 kB)\n",
            "Collecting aiohttp (from torch_geometric)\n",
            "  Downloading aiohttp-3.12.13-cp311-cp311-win_amd64.whl.metadata (7.9 kB)\n",
            "Requirement already satisfied: fsspec in c:\\users\\shash\\onedrive - tu eindhoven\\shashank prabhu university\\masters dsai\\q4\\2amm10 deep learning\\2amm10-assignments\\venv\\lib\\site-packages (from torch_geometric) (2024.6.1)\n",
            "Requirement already satisfied: jinja2 in c:\\users\\shash\\onedrive - tu eindhoven\\shashank prabhu university\\masters dsai\\q4\\2amm10 deep learning\\2amm10-assignments\\venv\\lib\\site-packages (from torch_geometric) (3.1.4)\n",
            "Requirement already satisfied: numpy in c:\\users\\shash\\onedrive - tu eindhoven\\shashank prabhu university\\masters dsai\\q4\\2amm10 deep learning\\2amm10-assignments\\venv\\lib\\site-packages (from torch_geometric) (2.1.2)\n",
            "Requirement already satisfied: psutil>=5.8.0 in c:\\users\\shash\\onedrive - tu eindhoven\\shashank prabhu university\\masters dsai\\q4\\2amm10 deep learning\\2amm10-assignments\\venv\\lib\\site-packages (from torch_geometric) (7.0.0)\n",
            "Requirement already satisfied: pyparsing in c:\\users\\shash\\onedrive - tu eindhoven\\shashank prabhu university\\masters dsai\\q4\\2amm10 deep learning\\2amm10-assignments\\venv\\lib\\site-packages (from torch_geometric) (3.2.3)\n",
            "Requirement already satisfied: requests in c:\\users\\shash\\onedrive - tu eindhoven\\shashank prabhu university\\masters dsai\\q4\\2amm10 deep learning\\2amm10-assignments\\venv\\lib\\site-packages (from torch_geometric) (2.32.3)\n",
            "Requirement already satisfied: tqdm in c:\\users\\shash\\onedrive - tu eindhoven\\shashank prabhu university\\masters dsai\\q4\\2amm10 deep learning\\2amm10-assignments\\venv\\lib\\site-packages (from torch_geometric) (4.67.1)\n",
            "Collecting aiohappyeyeballs>=2.5.0 (from aiohttp->torch_geometric)\n",
            "  Downloading aiohappyeyeballs-2.6.1-py3-none-any.whl.metadata (5.9 kB)\n",
            "Collecting aiosignal>=1.1.2 (from aiohttp->torch_geometric)\n",
            "  Downloading aiosignal-1.3.2-py2.py3-none-any.whl.metadata (3.8 kB)\n",
            "Requirement already satisfied: attrs>=17.3.0 in c:\\users\\shash\\onedrive - tu eindhoven\\shashank prabhu university\\masters dsai\\q4\\2amm10 deep learning\\2amm10-assignments\\venv\\lib\\site-packages (from aiohttp->torch_geometric) (25.3.0)\n",
            "Collecting frozenlist>=1.1.1 (from aiohttp->torch_geometric)\n",
            "  Downloading frozenlist-1.7.0-cp311-cp311-win_amd64.whl.metadata (19 kB)\n",
            "Collecting multidict<7.0,>=4.5 (from aiohttp->torch_geometric)\n",
            "  Downloading multidict-6.5.0-cp311-cp311-win_amd64.whl.metadata (5.5 kB)\n",
            "Collecting propcache>=0.2.0 (from aiohttp->torch_geometric)\n",
            "  Downloading propcache-0.3.2-cp311-cp311-win_amd64.whl.metadata (12 kB)\n",
            "Collecting yarl<2.0,>=1.17.0 (from aiohttp->torch_geometric)\n",
            "  Downloading yarl-1.20.1-cp311-cp311-win_amd64.whl.metadata (76 kB)\n",
            "Requirement already satisfied: idna>=2.0 in c:\\users\\shash\\onedrive - tu eindhoven\\shashank prabhu university\\masters dsai\\q4\\2amm10 deep learning\\2amm10-assignments\\venv\\lib\\site-packages (from yarl<2.0,>=1.17.0->aiohttp->torch_geometric) (3.10)\n",
            "Requirement already satisfied: MarkupSafe>=2.0 in c:\\users\\shash\\onedrive - tu eindhoven\\shashank prabhu university\\masters dsai\\q4\\2amm10 deep learning\\2amm10-assignments\\venv\\lib\\site-packages (from jinja2->torch_geometric) (2.1.5)\n",
            "Requirement already satisfied: charset-normalizer<4,>=2 in c:\\users\\shash\\onedrive - tu eindhoven\\shashank prabhu university\\masters dsai\\q4\\2amm10 deep learning\\2amm10-assignments\\venv\\lib\\site-packages (from requests->torch_geometric) (3.4.2)\n",
            "Requirement already satisfied: urllib3<3,>=1.21.1 in c:\\users\\shash\\onedrive - tu eindhoven\\shashank prabhu university\\masters dsai\\q4\\2amm10 deep learning\\2amm10-assignments\\venv\\lib\\site-packages (from requests->torch_geometric) (2.4.0)\n",
            "Requirement already satisfied: certifi>=2017.4.17 in c:\\users\\shash\\onedrive - tu eindhoven\\shashank prabhu university\\masters dsai\\q4\\2amm10 deep learning\\2amm10-assignments\\venv\\lib\\site-packages (from requests->torch_geometric) (2025.4.26)\n",
            "Requirement already satisfied: colorama in c:\\users\\shash\\onedrive - tu eindhoven\\shashank prabhu university\\masters dsai\\q4\\2amm10 deep learning\\2amm10-assignments\\venv\\lib\\site-packages (from tqdm->torch_geometric) (0.4.6)\n",
            "Downloading torch_geometric-2.6.1-py3-none-any.whl (1.1 MB)\n",
            "   ---------------------------------------- 0.0/1.1 MB ? eta -:--:--\n",
            "   ---------------------------------------- 1.1/1.1 MB 6.2 MB/s eta 0:00:00\n",
            "Downloading aiohttp-3.12.13-cp311-cp311-win_amd64.whl (451 kB)\n",
            "Downloading multidict-6.5.0-cp311-cp311-win_amd64.whl (44 kB)\n",
            "Downloading yarl-1.20.1-cp311-cp311-win_amd64.whl (86 kB)\n",
            "Downloading aiohappyeyeballs-2.6.1-py3-none-any.whl (15 kB)\n",
            "Downloading aiosignal-1.3.2-py2.py3-none-any.whl (7.6 kB)\n",
            "Downloading frozenlist-1.7.0-cp311-cp311-win_amd64.whl (44 kB)\n",
            "Downloading propcache-0.3.2-cp311-cp311-win_amd64.whl (41 kB)\n",
            "Installing collected packages: propcache, multidict, frozenlist, aiohappyeyeballs, yarl, aiosignal, aiohttp, torch_geometric\n",
            "\n",
            "   ----- ---------------------------------- 1/8 [multidict]\n",
            "   -------------------- ------------------- 4/8 [yarl]\n",
            "   ------------------------- -------------- 5/8 [aiosignal]\n",
            "   ------------------------------ --------- 6/8 [aiohttp]\n",
            "   ------------------------------ --------- 6/8 [aiohttp]\n",
            "   ------------------------------ --------- 6/8 [aiohttp]\n",
            "   ------------------------------ --------- 6/8 [aiohttp]\n",
            "   ------------------------------ --------- 6/8 [aiohttp]\n",
            "   ------------------------------ --------- 6/8 [aiohttp]\n",
            "   ------------------------------ --------- 6/8 [aiohttp]\n",
            "   ------------------------------ --------- 6/8 [aiohttp]\n",
            "   ----------------------------------- ---- 7/8 [torch_geometric]\n",
            "   ----------------------------------- ---- 7/8 [torch_geometric]\n",
            "   ----------------------------------- ---- 7/8 [torch_geometric]\n",
            "   ----------------------------------- ---- 7/8 [torch_geometric]\n",
            "   ----------------------------------- ---- 7/8 [torch_geometric]\n",
            "   ----------------------------------- ---- 7/8 [torch_geometric]\n",
            "   ----------------------------------- ---- 7/8 [torch_geometric]\n",
            "   ----------------------------------- ---- 7/8 [torch_geometric]\n",
            "   ----------------------------------- ---- 7/8 [torch_geometric]\n",
            "   ----------------------------------- ---- 7/8 [torch_geometric]\n",
            "   ----------------------------------- ---- 7/8 [torch_geometric]\n",
            "   ----------------------------------- ---- 7/8 [torch_geometric]\n",
            "   ----------------------------------- ---- 7/8 [torch_geometric]\n",
            "   ----------------------------------- ---- 7/8 [torch_geometric]\n",
            "   ----------------------------------- ---- 7/8 [torch_geometric]\n",
            "   ----------------------------------- ---- 7/8 [torch_geometric]\n",
            "   ----------------------------------- ---- 7/8 [torch_geometric]\n",
            "   ----------------------------------- ---- 7/8 [torch_geometric]\n",
            "   ----------------------------------- ---- 7/8 [torch_geometric]\n",
            "   ----------------------------------- ---- 7/8 [torch_geometric]\n",
            "   ----------------------------------- ---- 7/8 [torch_geometric]\n",
            "   ----------------------------------- ---- 7/8 [torch_geometric]\n",
            "   ----------------------------------- ---- 7/8 [torch_geometric]\n",
            "   ----------------------------------- ---- 7/8 [torch_geometric]\n",
            "   ----------------------------------- ---- 7/8 [torch_geometric]\n",
            "   ----------------------------------- ---- 7/8 [torch_geometric]\n",
            "   ----------------------------------- ---- 7/8 [torch_geometric]\n",
            "   ----------------------------------- ---- 7/8 [torch_geometric]\n",
            "   ----------------------------------- ---- 7/8 [torch_geometric]\n",
            "   ----------------------------------- ---- 7/8 [torch_geometric]\n",
            "   ----------------------------------- ---- 7/8 [torch_geometric]\n",
            "   ----------------------------------- ---- 7/8 [torch_geometric]\n",
            "   ----------------------------------- ---- 7/8 [torch_geometric]\n",
            "   ----------------------------------- ---- 7/8 [torch_geometric]\n",
            "   ----------------------------------- ---- 7/8 [torch_geometric]\n",
            "   ----------------------------------- ---- 7/8 [torch_geometric]\n",
            "   ----------------------------------- ---- 7/8 [torch_geometric]\n",
            "   ----------------------------------- ---- 7/8 [torch_geometric]\n",
            "   ----------------------------------- ---- 7/8 [torch_geometric]\n",
            "   ----------------------------------- ---- 7/8 [torch_geometric]\n",
            "   ----------------------------------- ---- 7/8 [torch_geometric]\n",
            "   ----------------------------------- ---- 7/8 [torch_geometric]\n",
            "   ----------------------------------- ---- 7/8 [torch_geometric]\n",
            "   ----------------------------------- ---- 7/8 [torch_geometric]\n",
            "   ----------------------------------- ---- 7/8 [torch_geometric]\n",
            "   ----------------------------------- ---- 7/8 [torch_geometric]\n",
            "   ----------------------------------- ---- 7/8 [torch_geometric]\n",
            "   ----------------------------------- ---- 7/8 [torch_geometric]\n",
            "   ----------------------------------- ---- 7/8 [torch_geometric]\n",
            "   ----------------------------------- ---- 7/8 [torch_geometric]\n",
            "   ----------------------------------- ---- 7/8 [torch_geometric]\n",
            "   ----------------------------------- ---- 7/8 [torch_geometric]\n",
            "   ----------------------------------- ---- 7/8 [torch_geometric]\n",
            "   ----------------------------------- ---- 7/8 [torch_geometric]\n",
            "   ----------------------------------- ---- 7/8 [torch_geometric]\n",
            "   ----------------------------------- ---- 7/8 [torch_geometric]\n",
            "   ----------------------------------- ---- 7/8 [torch_geometric]\n",
            "   ----------------------------------- ---- 7/8 [torch_geometric]\n",
            "   ----------------------------------- ---- 7/8 [torch_geometric]\n",
            "   ----------------------------------- ---- 7/8 [torch_geometric]\n",
            "   ----------------------------------- ---- 7/8 [torch_geometric]\n",
            "   ----------------------------------- ---- 7/8 [torch_geometric]\n",
            "   ----------------------------------- ---- 7/8 [torch_geometric]\n",
            "   ----------------------------------- ---- 7/8 [torch_geometric]\n",
            "   ----------------------------------- ---- 7/8 [torch_geometric]\n",
            "   ----------------------------------- ---- 7/8 [torch_geometric]\n",
            "   ----------------------------------- ---- 7/8 [torch_geometric]\n",
            "   ----------------------------------- ---- 7/8 [torch_geometric]\n",
            "   ----------------------------------- ---- 7/8 [torch_geometric]\n",
            "   ----------------------------------- ---- 7/8 [torch_geometric]\n",
            "   ----------------------------------- ---- 7/8 [torch_geometric]\n",
            "   ----------------------------------- ---- 7/8 [torch_geometric]\n",
            "   ---------------------------------------- 8/8 [torch_geometric]\n",
            "\n",
            "Successfully installed aiohappyeyeballs-2.6.1 aiohttp-3.12.13 aiosignal-1.3.2 frozenlist-1.7.0 multidict-6.5.0 propcache-0.3.2 torch_geometric-2.6.1 yarl-1.20.1\n"
          ]
        },
        {
          "name": "stderr",
          "output_type": "stream",
          "text": [
            "\n",
            "[notice] A new release of pip is available: 25.1 -> 25.1.1\n",
            "[notice] To update, run: python.exe -m pip install --upgrade pip\n"
          ]
        },
        {
          "name": "stdout",
          "output_type": "stream",
          "text": [
            "Looking in links: https://data.pyg.org/whl/torch-2.6.0+cu124.html\n",
            "Collecting torch_scatter\n",
            "  Downloading https://data.pyg.org/whl/torch-2.6.0%2Bcu124/torch_scatter-2.1.2%2Bpt26cu124-cp311-cp311-win_amd64.whl (3.5 MB)\n",
            "     ---------------------------------------- 0.0/3.5 MB ? eta -:--:--\n",
            "     ---------------------------------------- 3.5/3.5 MB 20.6 MB/s eta 0:00:00\n",
            "Collecting torch_sparse\n",
            "  Downloading https://data.pyg.org/whl/torch-2.6.0%2Bcu124/torch_sparse-0.6.18%2Bpt26cu124-cp311-cp311-win_amd64.whl (2.1 MB)\n",
            "     ---------------------------------------- 0.0/2.1 MB ? eta -:--:--\n",
            "     ---------------------------------------- 2.1/2.1 MB 23.3 MB/s eta 0:00:00\n",
            "Collecting torch_cluster\n",
            "  Downloading https://data.pyg.org/whl/torch-2.6.0%2Bcu124/torch_cluster-1.6.3%2Bpt26cu124-cp311-cp311-win_amd64.whl (1.6 MB)\n",
            "     ---------------------------------------- 0.0/1.6 MB ? eta -:--:--\n",
            "     ---------------------------------------- 1.6/1.6 MB 29.0 MB/s eta 0:00:00\n",
            "Collecting torch_spline_conv\n",
            "  Downloading https://data.pyg.org/whl/torch-2.6.0%2Bcu124/torch_spline_conv-1.2.2%2Bpt26cu124-cp311-cp311-win_amd64.whl (527 kB)\n",
            "     ---------------------------------------- 0.0/527.4 kB ? eta -:--:--\n",
            "     ---------------------------------------- 527.4/527.4 kB ? eta 0:00:00\n",
            "Requirement already satisfied: scipy in c:\\users\\shash\\onedrive - tu eindhoven\\shashank prabhu university\\masters dsai\\q4\\2amm10 deep learning\\2amm10-assignments\\venv\\lib\\site-packages (from torch_sparse) (1.15.3)\n",
            "Requirement already satisfied: numpy<2.5,>=1.23.5 in c:\\users\\shash\\onedrive - tu eindhoven\\shashank prabhu university\\masters dsai\\q4\\2amm10 deep learning\\2amm10-assignments\\venv\\lib\\site-packages (from scipy->torch_sparse) (2.1.2)\n",
            "Installing collected packages: torch_spline_conv, torch_scatter, torch_sparse, torch_cluster\n",
            "\n",
            "   ---------- ----------------------------- 1/4 [torch_scatter]\n",
            "   ---------- ----------------------------- 1/4 [torch_scatter]\n",
            "   -------------------- ------------------- 2/4 [torch_sparse]\n",
            "   -------------------- ------------------- 2/4 [torch_sparse]\n",
            "   -------------------- ------------------- 2/4 [torch_sparse]\n",
            "   -------------------- ------------------- 2/4 [torch_sparse]\n",
            "   ------------------------------ --------- 3/4 [torch_cluster]\n",
            "   ------------------------------ --------- 3/4 [torch_cluster]\n",
            "   ---------------------------------------- 4/4 [torch_cluster]\n",
            "\n",
            "Successfully installed torch_cluster-1.6.3+pt26cu124 torch_scatter-2.1.2+pt26cu124 torch_sparse-0.6.18+pt26cu124 torch_spline_conv-1.2.2+pt26cu124\n"
          ]
        },
        {
          "name": "stderr",
          "output_type": "stream",
          "text": [
            "\n",
            "[notice] A new release of pip is available: 25.1 -> 25.1.1\n",
            "[notice] To update, run: python.exe -m pip install --upgrade pip\n"
          ]
        }
      ],
      "source": [
        "# !pip install rdkit\n",
        "# !pip install torch_geometric\n",
        "# !pip install torch_scatter torch_sparse torch_cluster torch_spline_conv -f https://data.pyg.org/whl/torch-2.6.0+cu124.html"
      ]
    },
    {
      "cell_type": "code",
      "execution_count": null,
      "metadata": {
        "id": "WVL2eo0g_Iuv"
      },
      "outputs": [],
      "source": [
        "import pickle\n",
        "import numpy as np\n",
        "from rdkit import Chem\n",
        "from rdkit.Chem import Draw, AllChem\n",
        "from rdkit import RDLogger\n",
        "RDLogger.DisableLog('rdApp.*')\n",
        "import matplotlib.pyplot as plt"
      ]
    },
    {
      "cell_type": "code",
      "execution_count": 7,
      "metadata": {
        "id": "H8rvaK56_iQ7"
      },
      "outputs": [],
      "source": [
        "dir_add = 'ass2_data/'\n",
        "\n",
        "with open(dir_add+'pos_data.pkl', 'rb') as f:\n",
        "    pos_data = pickle.load(f)\n",
        "\n",
        "with open(dir_add+'type_data.pkl', 'rb') as f:\n",
        "    type_data = pickle.load(f)\n",
        "\n",
        "with open(dir_add+'smiles.pkl', 'rb') as f:\n",
        "    smiles_data = pickle.load(f)\n",
        "\n",
        "data_split = np.load(dir_add+'data_split.npz')\n",
        "\n",
        "train_idxes = data_split['train_idx']\n",
        "test_idxes = data_split['test_idx']\n",
        "\n",
        "formation_energy = np.load(dir_add+'formation_energy.npz')\n",
        "\n",
        "fe = formation_energy['y'] # normalized formation energy\n",
        "mu = formation_energy['mu']\n",
        "std = formation_energy['sigma']"
      ]
    },
    {
      "cell_type": "code",
      "execution_count": null,
      "metadata": {
        "id": "Bt4tiz7OF74p"
      },
      "outputs": [],
      "source": []
    },
    {
      "cell_type": "code",
      "execution_count": null,
      "metadata": {
        "id": "DIsGRQcxA_4Q"
      },
      "outputs": [],
      "source": [
        "# shapes of lists\n",
        "print(\"Length of data\")\n",
        "print(f\"pos_data: {len(pos_data)}, type_data: {len(type_data)}, smiles: {len(smiles_data)}\")\n",
        "print(\"Idxes\")\n",
        "print(f\"train: {len(train_idxes)}, test: {len(test_idxes)}, sum: {len(train_idxes) + len(test_idxes)}\")"
      ]
    },
    {
      "cell_type": "code",
      "execution_count": null,
      "metadata": {
        "id": "bVDJF7I3BFa2"
      },
      "outputs": [],
      "source": [
        "def at_number_to_atom_name(at_number):\n",
        "    if at_number == 6:\n",
        "        return 'C'\n",
        "    elif at_number == 1:\n",
        "        return 'H'\n",
        "    elif at_number == 7:\n",
        "        return 'N'\n",
        "    elif at_number == 8:\n",
        "        return 'O'\n",
        "    elif at_number == 9:\n",
        "        return 'F'\n",
        "    elif at_number == 16:\n",
        "        return 'S'\n",
        "    else:\n",
        "        return 'Unknown'\n",
        "\n",
        "def inspect_structure(idx):\n",
        "    smile = smiles_data[idx]\n",
        "    pos = pos_data[idx]\n",
        "    typ = type_data[idx]\n",
        "\n",
        "    header = f\"{'Atom':^5}│{'Number':^6}│{'x':^10}│{'y':^10}│{'z':^10}\"\n",
        "    line   = \"─────┼──────┼──────────┼──────────┼──────────\"\n",
        "    print(header)\n",
        "    print(line)\n",
        "\n",
        "    for atom_num, (x, y, z) in zip(typ, pos):\n",
        "        atom_sym = at_number_to_atom_name(atom_num)\n",
        "        print(f\"{atom_sym:^5}│{atom_num:^6}│{x:>10.3f}│{y:>10.3f}│{z:>10.3f}\")\n",
        "    print(\"\")\n",
        "    print(\"\")\n",
        "    print(f'SMILE: {smile}')\n",
        "    print(\"\")\n",
        "    print(\"\")\n",
        "    print(f'Formation Energy: {fe[idx]*std + mu:.3f}')\n",
        "    print(f'Formation Energy (normalized): {fe[idx]:.5f}')\n",
        "    mol = Chem.MolFromSmiles(smile)\n",
        "    if mol:\n",
        "        # RDKit prefers 2‑D coordinates for nice depictions\n",
        "        Chem.AllChem.Compute2DCoords(mol)\n",
        "        img = Draw.MolToImage(mol, size=(300, 300))\n",
        "\n",
        "        # Display with matplotlib (works both in notebooks and scripts)\n",
        "        plt.figure(figsize=(3, 3))\n",
        "        plt.axis('off')\n",
        "        plt.imshow(img)\n",
        "        plt.show()"
      ]
    },
    {
      "cell_type": "code",
      "execution_count": null,
      "metadata": {
        "id": "K1rs7hhCC4oq"
      },
      "outputs": [],
      "source": [
        "# methane\n",
        "# Note how methane has a relatively high formation energy (compared to QM9)\n",
        "# This correlates with lower thermodynamic stability and higher reactivity\n",
        "# For example, methane readily burns in oxygen (CH₄ + 2O₂ → CO₂ + 2H₂O)\n",
        "inspect_structure(0)"
      ]
    },
    {
      "cell_type": "code",
      "execution_count": null,
      "metadata": {
        "id": "vo8hYLuQCeBR"
      },
      "outputs": [],
      "source": [
        "# random structure\n",
        "inspect_structure(np.random.choice(range(len(smiles_data))))"
      ]
    },
    {
      "cell_type": "markdown",
      "metadata": {
        "id": "76MeHNQ_Gd9t"
      },
      "source": [
        "## Task 1"
      ]
    },
    {
      "cell_type": "code",
      "execution_count": null,
      "metadata": {
        "id": "Lv736iffCez4"
      },
      "outputs": [],
      "source": []
    },
    {
      "cell_type": "markdown",
      "metadata": {
        "id": "n0zvKnpLGf9v"
      },
      "source": [
        "## Task 2"
      ]
    },
    {
      "cell_type": "code",
      "execution_count": null,
      "metadata": {
        "id": "AC1KICrZGgkY"
      },
      "outputs": [],
      "source": []
    },
    {
      "cell_type": "markdown",
      "metadata": {
        "id": "5mIuOY4BGxqU"
      },
      "source": [
        "## Task 3"
      ]
    },
    {
      "cell_type": "code",
      "execution_count": null,
      "metadata": {
        "id": "z_NgxsO3GxEE"
      },
      "outputs": [],
      "source": [
        "def is_valid_smiles(smiles):\n",
        "    if smiles is None:\n",
        "        return False\n",
        "    try:\n",
        "        mol = Chem.MolFromSmiles(smiles)\n",
        "        return mol is not None\n",
        "    except:\n",
        "        return False\n",
        "\n",
        "def canonicalize(smiles):\n",
        "    try:\n",
        "        mol = Chem.MolFromSmiles(smiles)\n",
        "        if mol:\n",
        "            return Chem.MolToSmiles(mol, canonical=True)\n",
        "        return 'None'\n",
        "    except:\n",
        "        return 'None'"
      ]
    },
    {
      "cell_type": "code",
      "execution_count": null,
      "metadata": {
        "id": "SN_jGgOwG4kK"
      },
      "outputs": [],
      "source": [
        "canonicalize(\"COO\"), canonicalize(\"O(C)O\")"
      ]
    },
    {
      "cell_type": "code",
      "execution_count": null,
      "metadata": {
        "id": "-bhjYhYrHCuQ"
      },
      "outputs": [],
      "source": [
        "is_valid_smiles(\"COO\"), is_valid_smiles(\"O(C)O\"), is_valid_smiles(\"C##\")"
      ]
    },
    {
      "cell_type": "code",
      "execution_count": null,
      "metadata": {
        "id": "0_YgzDpMH-Vl"
      },
      "outputs": [],
      "source": []
    }
  ],
  "metadata": {
    "colab": {
      "provenance": []
    },
    "kernelspec": {
      "display_name": "venv",
      "language": "python",
      "name": "python3"
    },
    "language_info": {
      "codemirror_mode": {
        "name": "ipython",
        "version": 3
      },
      "file_extension": ".py",
      "mimetype": "text/x-python",
      "name": "python",
      "nbconvert_exporter": "python",
      "pygments_lexer": "ipython3",
      "version": "3.11.9"
    }
  },
  "nbformat": 4,
  "nbformat_minor": 0
}
