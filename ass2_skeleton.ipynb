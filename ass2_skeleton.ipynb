{
  "cells": [
    {
      "cell_type": "markdown",
      "metadata": {
        "id": "7wv9q_pcGshE"
      },
      "source": [
        "# Assignment 2 2AMM10 2023-2024\n",
        "\n",
        "## Group: [Shash_Kas_Pim]\n",
        "### Member 1: [Shashank Prabhu]\n",
        "### Member 2: [Kasra Gheytuli]\n",
        "### Member 3: [Pim de Wildt]"
      ]
    },
    {
      "cell_type": "markdown",
      "metadata": {
        "id": "cQzvuDWw_Eyw"
      },
      "source": [
        "We need to install some specific libraries. The cell below installs torch_geometric for torch 2.6.0+cu124. In case the current version of torch is different, check [here](https://pytorch-geometric.readthedocs.io/en/latest/install/installation.html) to see which versions (of both libraries) you should install. You might also need to install an old version of torch from [here](https://pytorch.org/get-started/previous-versions/)\n",
        "\n",
        "**Note:** Do not install pyg_lib from the optional dependencies"
      ]
    },
    {
      "cell_type": "code",
      "execution_count": 1,
      "metadata": {
        "id": "ibC2lMHfD67H"
      },
      "outputs": [
        {
          "name": "stdout",
          "output_type": "stream",
          "text": [
            "Name: torch\n",
            "Version: 2.7.0+cu128\n",
            "Summary: Tensors and Dynamic neural networks in Python with strong GPU acceleration\n",
            "Home-page: https://pytorch.org/\n",
            "Author: PyTorch Team\n",
            "Author-email: packages@pytorch.org\n",
            "License: BSD-3-Clause\n",
            "Location: C:\\Users\\shash\\OneDrive - TU Eindhoven\\Shashank Prabhu University\\Masters DSAI\\Q4\\2AMM10 Deep Learning\\2AMM10-Assignments\\venv\\Lib\\site-packages\n",
            "Requires: filelock, fsspec, jinja2, networkx, sympy, typing-extensions\n",
            "Required-by: torchaudio, torchvision\n"
          ]
        }
      ],
      "source": [
        "!pip show torch"
      ]
    },
    {
      "cell_type": "code",
      "execution_count": 2,
      "metadata": {
        "id": "8qrPQFNe_AJu"
      },
      "outputs": [],
      "source": [
        "# !pip install rdkit\n",
        "# !pip install torch_geometric\n",
        "# !pip install torch_scatter torch_sparse torch_cluster torch_spline_conv -f https://data.pyg.org/whl/torch-2.6.0+cu124.html"
      ]
    },
    {
      "cell_type": "code",
      "execution_count": 3,
      "metadata": {
        "id": "WVL2eo0g_Iuv"
      },
      "outputs": [],
      "source": [
        "import pickle\n",
        "import numpy as np\n",
        "from rdkit import Chem\n",
        "from rdkit.Chem import Draw, AllChem\n",
        "from rdkit import RDLogger\n",
        "RDLogger.DisableLog('rdApp.*')\n",
        "import matplotlib.pyplot as plt"
      ]
    },
    {
      "cell_type": "code",
      "execution_count": 4,
      "metadata": {
        "id": "H8rvaK56_iQ7"
      },
      "outputs": [],
      "source": [
        "dir_add = 'ass2_data/'\n",
        "\n",
        "with open(dir_add+'pos_data.pkl', 'rb') as f:\n",
        "    pos_data = pickle.load(f)\n",
        "\n",
        "with open(dir_add+'type_data.pkl', 'rb') as f:\n",
        "    type_data = pickle.load(f)\n",
        "\n",
        "with open(dir_add+'smiles.pkl', 'rb') as f:\n",
        "    smiles_data = pickle.load(f)\n",
        "\n",
        "data_split = np.load(dir_add+'data_split.npz')\n",
        "\n",
        "train_idxes = data_split['train_idx']\n",
        "test_idxes = data_split['test_idx']\n",
        "\n",
        "formation_energy = np.load(dir_add+'formation_energy.npz')\n",
        "\n",
        "fe = formation_energy['y'] # normalized formation energy\n",
        "mu = formation_energy['mu']\n",
        "std = formation_energy['sigma']"
      ]
    },
    {
      "cell_type": "code",
      "execution_count": null,
      "metadata": {
        "id": "Bt4tiz7OF74p"
      },
      "outputs": [],
      "source": []
    },
    {
      "cell_type": "code",
      "execution_count": 5,
      "metadata": {
        "id": "DIsGRQcxA_4Q"
      },
      "outputs": [
        {
          "name": "stdout",
          "output_type": "stream",
          "text": [
            "Length of data\n",
            "pos_data: 129012, type_data: 129012, smiles: 129012\n",
            "Idxes\n",
            "train: 119012, test: 10000, sum: 129012\n"
          ]
        }
      ],
      "source": [
        "# shapes of lists\n",
        "print(\"Length of data\")\n",
        "print(f\"pos_data: {len(pos_data)}, type_data: {len(type_data)}, smiles: {len(smiles_data)}\")\n",
        "print(\"Idxes\")\n",
        "print(f\"train: {len(train_idxes)}, test: {len(test_idxes)}, sum: {len(train_idxes) + len(test_idxes)}\")"
      ]
    },
    {
      "cell_type": "code",
      "execution_count": 6,
      "metadata": {
        "id": "bVDJF7I3BFa2"
      },
      "outputs": [],
      "source": [
        "def at_number_to_atom_name(at_number):\n",
        "    if at_number == 6:\n",
        "        return 'C'\n",
        "    elif at_number == 1:\n",
        "        return 'H'\n",
        "    elif at_number == 7:\n",
        "        return 'N'\n",
        "    elif at_number == 8:\n",
        "        return 'O'\n",
        "    elif at_number == 9:\n",
        "        return 'F'\n",
        "    elif at_number == 16:\n",
        "        return 'S'\n",
        "    else:\n",
        "        return 'Unknown'\n",
        "\n",
        "def inspect_structure(idx):\n",
        "    smile = smiles_data[idx]\n",
        "    pos = pos_data[idx]\n",
        "    typ = type_data[idx]\n",
        "\n",
        "    header = f\"{'Atom':^5}│{'Number':^6}│{'x':^10}│{'y':^10}│{'z':^10}\"\n",
        "    line   = \"─────┼──────┼──────────┼──────────┼──────────\"\n",
        "    print(header)\n",
        "    print(line)\n",
        "\n",
        "    for atom_num, (x, y, z) in zip(typ, pos):\n",
        "        atom_sym = at_number_to_atom_name(atom_num)\n",
        "        print(f\"{atom_sym:^5}│{atom_num:^6}│{x:>10.3f}│{y:>10.3f}│{z:>10.3f}\")\n",
        "    print(\"\")\n",
        "    print(\"\")\n",
        "    print(f'SMILE: {smile}')\n",
        "    print(\"\")\n",
        "    print(\"\")\n",
        "    print(f'Formation Energy: {fe[idx]*std + mu:.3f}')\n",
        "    print(f'Formation Energy (normalized): {fe[idx]:.5f}')\n",
        "    mol = Chem.MolFromSmiles(smile)\n",
        "    if mol:\n",
        "        # RDKit prefers 2‑D coordinates for nice depictions\n",
        "        Chem.AllChem.Compute2DCoords(mol)\n",
        "        img = Draw.MolToImage(mol, size=(300, 300))\n",
        "\n",
        "        # Display with matplotlib (works both in notebooks and scripts)\n",
        "        plt.figure(figsize=(3, 3))\n",
        "        plt.axis('off')\n",
        "        plt.imshow(img)\n",
        "        plt.show()"
      ]
    },
    {
      "cell_type": "code",
      "execution_count": 7,
      "metadata": {
        "id": "K1rs7hhCC4oq"
      },
      "outputs": [
        {
          "name": "stdout",
          "output_type": "stream",
          "text": [
            "Atom │Number│    x     │    y     │    z     \n",
            "─────┼──────┼──────────┼──────────┼──────────\n",
            "  C  │  6   │    -0.013│     1.086│     0.008\n",
            "  H  │  1   │     0.002│    -0.006│     0.002\n",
            "  H  │  1   │     1.012│     1.464│     0.000\n",
            "  H  │  1   │    -0.541│     1.447│    -0.877\n",
            "  H  │  1   │    -0.524│     1.438│     0.906\n",
            "\n",
            "\n",
            "SMILE: C\n",
            "\n",
            "\n",
            "Formation Energy: -17.172\n",
            "Formation Energy (normalized): 5.72327\n"
          ]
        },
        {
          "data": {
            "image/png": "[encoded data removed]",
            "text/plain": [
              "<Figure size 300x300 with 1 Axes>"
            ]
          },
          "metadata": {},
          "output_type": "display_data"
        }
      ],
      "source": [
        "# methane\n",
        "# Note how methane has a relatively high formation energy (compared to QM9)\n",
        "# This correlates with lower thermodynamic stability and higher reactivity\n",
        "# For example, methane readily burns in oxygen (CH₄ + 2O₂ → CO₂ + 2H₂O)\n",
        "inspect_structure(0)"
      ]
    },
    {
      "cell_type": "code",
      "execution_count": 8,
      "metadata": {
        "id": "vo8hYLuQCeBR"
      },
      "outputs": [
        {
          "name": "stdout",
          "output_type": "stream",
          "text": [
            "Atom │Number│    x     │    y     │    z     \n",
            "─────┼──────┼──────────┼──────────┼──────────\n",
            "  N  │  7   │     0.032│    -1.152│    -0.230\n",
            "  C  │  6   │    -0.021│    -0.004│    -0.109\n",
            "  C  │  6   │    -0.047│     1.450│     0.038\n",
            "  C  │  6   │     1.371│     2.027│     0.071\n",
            "  C  │  6   │     2.183│     2.014│    -1.243\n",
            "  O  │  8   │     2.330│     3.456│    -1.215\n",
            "  C  │  6   │     1.533│     3.576│    -0.028\n",
            "  C  │  6   │     0.305│     4.350│    -0.240\n",
            "  N  │  7   │    -0.679│     4.936│    -0.394\n",
            "  H  │  1   │    -0.621│     1.881│    -0.790\n",
            "  H  │  1   │    -0.586│     1.705│     0.958\n",
            "  H  │  1   │     1.919│     1.620│     0.921\n",
            "  H  │  1   │     3.151│     1.508│    -1.207\n",
            "  H  │  1   │     1.629│     1.680│    -2.128\n",
            "  H  │  1   │     2.095│     4.031│     0.796\n",
            "\n",
            "\n",
            "SMILE: N#CC[C@H]1CO[C@H]1C#N\n",
            "\n",
            "\n",
            "Formation Energy: -67.807\n",
            "Formation Energy (normalized): 0.81245\n"
          ]
        },
        {
          "data": {
            "image/png": "[encoded data removed]",
            "text/plain": [
              "<Figure size 300x300 with 1 Axes>"
            ]
          },
          "metadata": {},
          "output_type": "display_data"
        }
      ],
      "source": [
        "# random structure\n",
        "inspect_structure(np.random.choice(range(len(smiles_data))))"
      ]
    },
    {
      "cell_type": "markdown",
      "metadata": {
        "id": "76MeHNQ_Gd9t"
      },
      "source": [
        "## Task 1"
      ]
    },
    {
      "cell_type": "code",
      "execution_count": 9,
      "metadata": {
        "id": "Lv736iffCez4"
      },
      "outputs": [],
      "source": [
        "import warnings\n",
        "warnings.filterwarnings(\"ignore\")\n",
        "\n",
        "import torch\n",
        "import torch.nn as nn\n",
        "import torch.nn.functional as F\n",
        "from torch_geometric.nn import MessagePassing, global_mean_pool\n",
        "from torch_geometric.data import Data, DataLoader as GeometricDataLoader\n",
        "from torch.utils.data import Dataset, DataLoader\n",
        "from torch.nn.utils.rnn import pack_padded_sequence, pad_packed_sequence\n",
        "\n",
        "from sklearn.model_selection import train_test_split\n",
        "from sklearn.metrics import mean_absolute_error, r2_score, mean_squared_error\n",
        "from sklearn.linear_model import Ridge\n",
        "\n",
        "import numpy as np\n",
        "import pickle\n",
        "import time\n",
        "import math\n",
        "import os\n",
        "\n",
        "from rdkit import Chem\n",
        "from rdkit.Chem import Draw, AllChem\n",
        "from rdkit import RDLogger\n",
        "import rdkit.DataStructs as DataStructs\n",
        "RDLogger.DisableLog('rdApp.*')\n",
        "\n",
        "import matplotlib.pyplot as plt\n",
        "from tqdm import tqdm\n",
        "from tqdm.auto import tqdm"
      ]
    },
    {
      "cell_type": "markdown",
      "metadata": {},
      "source": [
        "### GNN"
      ]
    },
    {
      "cell_type": "code",
      "execution_count": 10,
      "metadata": {},
      "outputs": [],
      "source": [
        "#GNN\n",
        "\n",
        "class GNNMessagePassing(MessagePassing):\n",
        "    '''\n",
        "    Custom message passing layer implementing:\n",
        "    x_i^(k) = γ^k(x_i^(k-1), ⋃_{j∈N(i)} φ^k(x_i^(k-1), x_j^(k-1), e_{j,i}))\n",
        "    \n",
        "    - φ^k: Edge transfer function (processes bond information)\n",
        "    - γ^k: Node update function (updates atom representations)\n",
        "    - ⋃: Message aggregation (mean aggregation for stability)\n",
        "\n",
        "    REF LEC 3\n",
        "    '''\n",
        "    def __init__(self, node_dim, edge_dim, hidden_dim):\n",
        "        super().__init__(aggr='mean') #using mean aggregation\n",
        "        \n",
        "        # Edge transfer function\n",
        "        self.edge_mlp = nn.Sequential(\n",
        "            nn.Linear(2 * node_dim + edge_dim, hidden_dim),\n",
        "            nn.ReLU(),\n",
        "            nn.Linear(hidden_dim, hidden_dim),\n",
        "            nn.ReLU()\n",
        "        )\n",
        "        \n",
        "        # Node update function\n",
        "        self.node_mlp = nn.Sequential(\n",
        "            nn.Linear(node_dim + hidden_dim, hidden_dim),\n",
        "            nn.ReLU(),\n",
        "            nn.Linear(hidden_dim, node_dim)\n",
        "        )\n",
        "        \n",
        "        self.layer_norm = nn.LayerNorm(node_dim)\n",
        "        \n",
        "    def forward(self, x, edge_index, edge_attr):\n",
        "        return self.propagate(edge_index, x=x, edge_attr=edge_attr)\n",
        "    \n",
        "    def message(self, x_i, x_j, edge_attr):\n",
        "        edge_input = torch.cat([x_i, x_j, edge_attr], dim=-1)\n",
        "        return self.edge_mlp(edge_input)\n",
        "    \n",
        "    def update(self, aggr_out, x):\n",
        "        node_input = torch.cat([x, aggr_out], dim=-1)\n",
        "        h = self.node_mlp(node_input)\n",
        "        return self.layer_norm(h + x)  # Skip connection + normalization\n",
        "\n",
        "\n",
        "class MolecularGNN(nn.Module):\n",
        "    '''\n",
        "    Complete GNN architecture for molecular property prediction.\n",
        "    Respects molecular symmetries through distance-based features.\n",
        "    '''\n",
        "    def __init__(self, num_atom_types=20, hidden_dim=128, num_layers=3):\n",
        "        super().__init__()\n",
        "        \n",
        "        self.atom_embedding = nn.Embedding(num_atom_types, hidden_dim)\n",
        "        self.input_projection = nn.Linear(hidden_dim + 3, hidden_dim)\n",
        "        \n",
        "        self.mp_layers = nn.ModuleList([\n",
        "            GNNMessagePassing(hidden_dim, 1, hidden_dim)\n",
        "            for _ in range(num_layers)\n",
        "        ])\n",
        "        \n",
        "        self.output_mlp = nn.Sequential(\n",
        "            nn.Linear(hidden_dim, hidden_dim // 2),\n",
        "            nn.ReLU(),\n",
        "            nn.Linear(hidden_dim // 2, 1)\n",
        "        )\n",
        "        \n",
        "    def compute_edge_features(self, pos, edge_index): \n",
        "        #for invariance - bond length remains invariant under rotation and translation invarance as ditance is invariant under translation\n",
        "        '''Compute rotation-invariant distance features'''\n",
        "        row, col = edge_index\n",
        "        distances = torch.norm(pos[row] - pos[col], dim=1, keepdim=True)\n",
        "        return distances\n",
        "    \n",
        "    def forward(self, batch_data):\n",
        "        x = batch_data.x\n",
        "        pos = batch_data.pos\n",
        "        edge_index = batch_data.edge_index\n",
        "        batch = batch_data.batch\n",
        "        \n",
        "        # Embed atoms and combine with positions\n",
        "        atom_features = self.atom_embedding(x)\n",
        "        node_features = torch.cat([atom_features, pos], dim=-1)\n",
        "        node_features = self.input_projection(node_features)\n",
        "        \n",
        "        # Compute edge features\n",
        "        edge_features = self.compute_edge_features(pos, edge_index)\n",
        "        \n",
        "        # Message passing with skip connections\n",
        "        for i, mp_layer in enumerate(self.mp_layers):\n",
        "            if i > 0:\n",
        "                node_features = node_features + mp_layer(node_features, edge_index, edge_features)\n",
        "            else:\n",
        "                node_features = mp_layer(node_features, edge_index, edge_features)\n",
        "        \n",
        "        # Global pooling\n",
        "        graph_features = global_mean_pool(node_features, batch)\n",
        "        \n",
        "        return self.output_mlp(graph_features)"
      ]
    },
    {
      "cell_type": "code",
      "execution_count": 11,
      "metadata": {},
      "outputs": [],
      "source": [
        "#Data pre proocessing (to add edges for a geometric representation)\n",
        "\n",
        "def create_molecular_graph(positions, atom_types, threshold=2.5): #2.5 Angstroms is a common threshold for covalent bonds\n",
        "    '''\n",
        "    Create PyTorch Geometric graph from molecular data.\n",
        "    Connects atoms within threshold distance.\n",
        "    '''\n",
        "    num_atoms = len(atom_types)\n",
        "    positions = np.array(positions)\n",
        "    \n",
        "    # Create edges based on distance\n",
        "    edges = []\n",
        "    for i in range(num_atoms):\n",
        "        for j in range(i + 1, num_atoms):\n",
        "            dist = np.linalg.norm(positions[i] - positions[j])\n",
        "            if dist < threshold:\n",
        "                edges.append([i, j])\n",
        "                edges.append([j, i])\n",
        "    \n",
        "    # Fallback: fully connected if no edges\n",
        "    if not edges:\n",
        "        edges = [[i, j] for i in range(num_atoms) for j in range(num_atoms) if i != j]\n",
        "    \n",
        "    edge_index = torch.tensor(edges, dtype=torch.long).t().contiguous()\n",
        "    \n",
        "    return Data(\n",
        "        x=torch.tensor(atom_types, dtype=torch.long),\n",
        "        pos=torch.tensor(positions, dtype=torch.float),\n",
        "        edge_index=edge_index\n",
        "    )\n",
        "\n",
        "\n",
        "#Dataset class and loaders\n",
        "class GeometricDataset(Dataset):\n",
        "    '''PyTorch dataset for geometric molecular data'''\n",
        "    def __init__(self, pos_data, type_data, targets, indices, threshold=2.5):\n",
        "        self.graphs = []\n",
        "        print(f\"Creating {len(indices)} molecular graphs with threshold={threshold}...\")\n",
        "        for idx in tqdm(indices):\n",
        "            graph = create_molecular_graph(pos_data[idx], type_data[idx], threshold)\n",
        "            graph.y = torch.tensor([targets[idx]], dtype=torch.float)\n",
        "            self.graphs.append(graph)\n",
        "    \n",
        "    def __len__(self):\n",
        "        return len(self.graphs)\n",
        "    \n",
        "    def __getitem__(self, idx):\n",
        "        return self.graphs[idx]\n"
      ]
    },
    {
      "cell_type": "markdown",
      "metadata": {},
      "source": [
        "### SMILES"
      ]
    },
    {
      "cell_type": "code",
      "execution_count": 12,
      "metadata": {},
      "outputs": [
        {
          "name": "stdout",
          "output_type": "stream",
          "text": [
            "Vocabulary size: 26\n",
            "Max sequence length: 62\n",
            "Sample characters: ['<PAD>', '<UNK>', '#', '(', ')', '+', '-', '/', '1', '2', '3', '4', '5', '=', '@', 'C', 'F', 'H', 'N', 'O']\n"
          ]
        }
      ],
      "source": [
        "# SMILES PREPROCESSING AND TOKENIZATION\n",
        "\n",
        "def build_char_vocab(smiles_list):\n",
        "    \"\"\"Build character-level vocabulary from SMILES strings\"\"\"\n",
        "    chars = sorted({c for smi in smiles_list for c in smi})\n",
        "    char2idx = {'<PAD>': 0, '<UNK>': 1}\n",
        "    char2idx.update({c: i+2 for i, c in enumerate(chars)})\n",
        "    idx2char = {idx: char for char, idx in char2idx.items()}\n",
        "    return char2idx, idx2char\n",
        "\n",
        "def tokenize_smiles(smi, char2idx, max_len):\n",
        "    \"\"\"Convert SMILES string to padded sequence of character indices\"\"\"\n",
        "    indices = [char2idx.get(c, char2idx['<UNK>']) for c in smi]\n",
        "    length = min(len(indices), max_len)\n",
        "    \n",
        "    # Pad or truncate to max_len\n",
        "    if len(indices) < max_len:\n",
        "        indices = indices + [char2idx['<PAD>']] * (max_len - len(indices))\n",
        "    else:\n",
        "        indices = indices[:max_len]\n",
        "    \n",
        "    return indices, length\n",
        "\n",
        "def smiles_to_fp(smi, radius=2, nBits=2048):\n",
        "    \"\"\"Convert SMILES to Morgan fingerprint (for future use)\"\"\"\n",
        "    arr = np.zeros((nBits,), dtype=np.uint8)\n",
        "    mol = Chem.MolFromSmiles(smi)\n",
        "    if mol:\n",
        "        fp = AllChem.GetMorganFingerprintAsBitVect(mol, radius, nBits)\n",
        "        rdkit.DataStructs.ConvertToNumpyArray(fp, arr)\n",
        "    return arr\n",
        "\n",
        "# Build vocabulary from training data\n",
        "train_smiles = [smiles_data[i] for i in train_idxes]\n",
        "char2idx, idx2char = build_char_vocab(train_smiles)\n",
        "vocab_size = len(char2idx)\n",
        "max_len = max(len(smi) for smi in smiles_data)\n",
        "\n",
        "print(f\"Vocabulary size: {vocab_size}\")\n",
        "print(f\"Max sequence length: {max_len}\")\n",
        "print(f\"Sample characters: {list(char2idx.keys())[:20]}\")"
      ]
    },
    {
      "cell_type": "code",
      "execution_count": 13,
      "metadata": {},
      "outputs": [],
      "source": [
        "# LSTM MODEL FOR SMILES\n",
        "from torch.nn.utils.rnn import pack_padded_sequence, pad_packed_sequence\n",
        "\n",
        "class ImprovedLSTM(nn.Module):\n",
        "    \"\"\"\n",
        "    LSTM-based model for SMILES sequence processing.\n",
        "    Handles variable-length sequences with proper padding and packing.\n",
        "    \"\"\"\n",
        "    def __init__(self, vocab_size, emb_dim=64, hidden_dim=128, num_layers=2, dropout=0.1):\n",
        "        super().__init__()\n",
        "        \n",
        "        # Character embedding layer\n",
        "        self.embedding = nn.Embedding(vocab_size, emb_dim, padding_idx=0)\n",
        "        \n",
        "        # LSTM layers\n",
        "        self.lstm = nn.LSTM(\n",
        "            emb_dim, hidden_dim, num_layers,\n",
        "            batch_first=True, \n",
        "            dropout=dropout if num_layers > 1 else 0.0,\n",
        "            bidirectional=False\n",
        "        )\n",
        "        \n",
        "        # Regularization and output\n",
        "        self.dropout = nn.Dropout(dropout)\n",
        "        self.layer_norm = nn.LayerNorm(hidden_dim)\n",
        "        self.fc = nn.Linear(hidden_dim, 1)\n",
        "        \n",
        "    def forward(self, seq, lengths=None):\n",
        "        \"\"\"\n",
        "        Forward pass through LSTM\n",
        "        Args:\n",
        "            seq: (batch_size, seq_len) - tokenized SMILES\n",
        "            lengths: (batch_size,) - actual lengths before padding\n",
        "        \"\"\"\n",
        "        # Embed characters\n",
        "        x = self.embedding(seq)  # (batch_size, seq_len, emb_dim)\n",
        "        \n",
        "        # Pack sequences for efficient LSTM processing\n",
        "        if lengths is not None:\n",
        "            x = pack_padded_sequence(x, lengths.cpu(), batch_first=True, enforce_sorted=True)\n",
        "        \n",
        "        # LSTM forward pass\n",
        "        lstm_out, (h_n, _) = self.lstm(x)\n",
        "        \n",
        "        if lengths is not None:\n",
        "            lstm_out, _ = pad_packed_sequence(lstm_out, batch_first=True)\n",
        "        \n",
        "        # Use final hidden state from last layer\n",
        "        last_hidden = h_n[-1]  # (batch_size, hidden_dim)\n",
        "        \n",
        "        # Apply normalization and dropout\n",
        "        out = self.layer_norm(last_hidden)\n",
        "        out = self.dropout(out)\n",
        "        \n",
        "        return self.fc(out).squeeze(-1)"
      ]
    },
    {
      "cell_type": "code",
      "execution_count": 14,
      "metadata": {},
      "outputs": [],
      "source": [
        "# SMILES DATASET CLASS\n",
        "class SMILESDataset(Dataset):\n",
        "    \"\"\"PyTorch dataset for SMILES molecular data\"\"\"\n",
        "    def __init__(self, smiles_data, targets, indices, char2idx, max_len):\n",
        "        self.sequences = []\n",
        "        self.lengths = []\n",
        "        self.targets = []\n",
        "        \n",
        "        print(f\"Processing {len(indices)} SMILES sequences...\")\n",
        "        for idx in tqdm(indices, desc=\"Tokenizing SMILES\"):\n",
        "            smi = smiles_data[idx]\n",
        "            seq, length = tokenize_smiles(smi, char2idx, max_len)\n",
        "            \n",
        "            self.sequences.append(seq)\n",
        "            self.lengths.append(length)\n",
        "            self.targets.append(targets[idx])\n",
        "        \n",
        "        # Convert to tensors\n",
        "        self.sequences = torch.tensor(self.sequences, dtype=torch.long)\n",
        "        self.lengths = torch.tensor(self.lengths, dtype=torch.long) \n",
        "        self.targets = torch.tensor(self.targets, dtype=torch.float)\n",
        "    \n",
        "    def __len__(self):\n",
        "        return len(self.targets)\n",
        "    \n",
        "    def __getitem__(self, idx):\n",
        "        return self.sequences[idx], self.lengths[idx], self.targets[idx]\n",
        "\n",
        "def smiles_collate_fn(batch):\n",
        "    \"\"\"Custom collate function for SMILES data - sorts by length for packing\"\"\"\n",
        "    sequences, lengths, targets = zip(*batch)\n",
        "    \n",
        "    # Sort by length (descending) for efficient packing\n",
        "    sorted_batch = sorted(zip(sequences, lengths, targets), \n",
        "                         key=lambda x: x[1], reverse=True)\n",
        "    sequences, lengths, targets = zip(*sorted_batch)\n",
        "    \n",
        "    return (torch.stack(sequences), \n",
        "            torch.tensor(lengths), \n",
        "            torch.stack(targets))"
      ]
    },
    {
      "cell_type": "markdown",
      "metadata": {},
      "source": [
        "### COMMON"
      ]
    },
    {
      "cell_type": "code",
      "execution_count": 15,
      "metadata": {},
      "outputs": [],
      "source": [
        "# TRAINING AND EVALUATION FUNCTIONS\n",
        "\n",
        "def train_epoch(model, loader, optimizer, criterion, device, model_type='gnn'):\n",
        "    '''Train model for one epoch'''\n",
        "    model.train()\n",
        "    total_loss = 0\n",
        "    \n",
        "    desc = f\"Training {model_type.upper()} batches\"\n",
        "    for batch in tqdm(loader, desc=desc, leave=False):\n",
        "        if model_type == 'gnn':\n",
        "            batch = batch.to(device)\n",
        "            outputs = model(batch)\n",
        "            targets = batch.y.view(-1, 1)\n",
        "        else:  # SMILES\n",
        "            sequences, lengths, targets = batch\n",
        "            sequences = sequences.to(device)\n",
        "            lengths = lengths.to(device)\n",
        "            targets = targets.to(device).view(-1, 1)\n",
        "            outputs = model(sequences, lengths=lengths).view(-1, 1)\n",
        "        \n",
        "        loss = criterion(outputs, targets)\n",
        "        \n",
        "        optimizer.zero_grad()\n",
        "        loss.backward()\n",
        "        torch.nn.utils.clip_grad_norm_(model.parameters(), max_norm=1.0)\n",
        "        optimizer.step()\n",
        "        \n",
        "        total_loss += loss.item()\n",
        "    \n",
        "    return total_loss / len(loader)\n",
        "\n",
        "\n",
        "def evaluate(model, loader, criterion, device, model_type='gnn'):\n",
        "    '''Evaluate model on dataset and return metrics'''\n",
        "    model.eval()\n",
        "    total_loss = 0\n",
        "    predictions = []\n",
        "    targets_list = []\n",
        "    \n",
        "    with torch.no_grad():\n",
        "        for batch in loader:\n",
        "            if model_type == 'gnn':\n",
        "                batch = batch.to(device)\n",
        "                outputs = model(batch)\n",
        "                targets = batch.y\n",
        "            else: #smiles\n",
        "                sequences, lengths, targets = batch\n",
        "                sequences = sequences.to(device)\n",
        "                lengths = lengths.to(device)\n",
        "                targets = targets.to(device)\n",
        "                outputs = model(sequences, lengths=lengths)\n",
        "            \n",
        "            loss = criterion(outputs.view(-1), targets.view(-1))\n",
        "            total_loss += loss.item()\n",
        "            \n",
        "            predictions.extend(outputs.cpu().numpy())\n",
        "            targets_list.extend(targets.cpu().numpy())\n",
        "    \n",
        "    predictions = np.array(predictions)\n",
        "    targets_list = np.array(targets_list)\n",
        "    \n",
        "    # Calculate all metrics in normalized space\n",
        "    mae_norm = mean_absolute_error(targets_list, predictions)\n",
        "    mse_norm = mean_squared_error(targets_list, predictions)\n",
        "    r2 = r2_score(targets_list, predictions)\n",
        "    \n",
        "    # Unnormalize for reporting (formula: original = normalized * std + mu)\n",
        "    # For MAE and MSE: only multiply by std (since errors are scale-dependent but offset-independent)\n",
        "    mae_unnorm = mae_norm * std\n",
        "    mse_unnorm = mse_norm * (std ** 2)  # MSE scales with variance\n",
        "    \n",
        "    # Double-check unnormalization with a few examples\n",
        "    targets_unnorm = targets_list * std + mu\n",
        "    predictions_unnorm = predictions * std + mu\n",
        "\n",
        "    return {\n",
        "        'loss': total_loss / len(loader),\n",
        "        'mae_norm': mae_norm,\n",
        "        'mse_norm': mse_norm,\n",
        "        'mae_unnorm': mae_unnorm,\n",
        "        'mse_unnorm': mse_unnorm,\n",
        "        'r2': r2,\n",
        "        'predictions': predictions,\n",
        "        'targets': targets_list\n",
        "        }\n",
        "\n",
        "#Helper\n",
        "def generate_model_filename(config, model_type='gnn'):\n",
        "    \"\"\"Generate model filename based on hyperparameters and model type\"\"\"\n",
        "    if model_type == 'gnn':\n",
        "        return f\"gnn_h{config['hidden_dim']}_l{config['num_layers']}_t{config['threshold']:.1f}_lr{config['lr']:.0e}_bs{config['batch_size']}_e{config['num_epochs']}.pt\"\n",
        "    else:  # SMILES\n",
        "        return f\"lstm_emb{config['emb_dim']}_h{config['hidden_dim']}_l{config['num_layers']}_lr{config['lr']:.0e}_bs{config['batch_size']}_e{config['num_epochs']}.pt\""
      ]
    },
    {
      "cell_type": "code",
      "execution_count": 16,
      "metadata": {},
      "outputs": [],
      "source": [
        "# def plot_results(results, config, model_type='gnn'):\n",
        "#     \"\"\"Plot training curves and predictions with enhanced metrics - works for both model types\"\"\"\n",
        "    \n",
        "#     val_metrics = results['val_metrics']\n",
        "#     test_results = results['test_results']\n",
        "    \n",
        "#     # Extract metrics for plotting\n",
        "#     val_losses = [m['loss'] for m in val_metrics]\n",
        "#     val_maes = [m['mae_unnorm'] for m in val_metrics]\n",
        "#     val_mses = [m['mse_unnorm'] for m in val_metrics]\n",
        "#     val_r2s = [m['r2'] for m in val_metrics]\n",
        "    \n",
        "#     # Plot training curves\n",
        "#     fig, ((ax1, ax2), (ax3, ax4)) = plt.subplots(2, 2, figsize=(15, 10))\n",
        "    \n",
        "#     # Loss curves\n",
        "#     ax1.plot(results['train_losses'], label='Train Loss', color='blue')\n",
        "#     ax1.plot(val_losses, label='Val Loss', color='orange')\n",
        "#     ax1.set_xlabel('Epoch')\n",
        "#     ax1.set_ylabel('MSE Loss (normalized)')\n",
        "#     ax1.set_title(f'{model_type.upper()} Training Curves')\n",
        "#     ax1.legend()\n",
        "#     ax1.grid(True)\n",
        "    \n",
        "#     # MAE progression (unnormalized)\n",
        "#     ax2.plot(val_maes, label='Validation MAE', color='green')\n",
        "#     ax2.axhline(y=10, color='red', linestyle='--', alpha=0.7, label='Grading Threshold (MAE < 10)')\n",
        "#     ax2.set_xlabel('Epoch')\n",
        "#     ax2.set_ylabel('MAE (unnormalized)')\n",
        "#     ax2.set_title('MAE Progression')\n",
        "#     ax2.legend()\n",
        "#     ax2.grid(True)\n",
        "    \n",
        "#     # MSE progression (unnormalized)\n",
        "#     ax3.plot(val_mses, label='Validation MSE', color='purple')\n",
        "#     ax3.axhline(y=120, color='red', linestyle='--', alpha=0.7, label='Grading Threshold (MSE < 120)')\n",
        "#     ax3.set_xlabel('Epoch')\n",
        "#     ax3.set_ylabel('MSE (unnormalized)')\n",
        "#     ax3.set_title('MSE Progression')\n",
        "#     ax3.legend()\n",
        "#     ax3.grid(True)\n",
        "    \n",
        "#     # R² progression\n",
        "#     ax4.plot(val_r2s, label='Validation R²', color='brown')\n",
        "#     ax4.set_xlabel('Epoch')\n",
        "#     ax4.set_ylabel('R² Score')\n",
        "#     ax4.set_title('R² Score Progression')\n",
        "#     ax4.legend()\n",
        "#     ax4.grid(True)\n",
        "    \n",
        "#     plt.tight_layout()\n",
        "#     plt.show()\n",
        "    \n",
        "#     # Prediction scatter plot\n",
        "#     fig, (ax1, ax2) = plt.subplots(1, 2, figsize=(15, 5))\n",
        "    \n",
        "#     # Unnormalized predictions\n",
        "#     targets_unnorm = test_results['targets'] * std + mu\n",
        "#     predictions_unnorm = test_results['predictions'] * std + mu\n",
        "    \n",
        "#     ax1.scatter(targets_unnorm, predictions_unnorm, alpha=0.6, s=20)\n",
        "#     ax1.plot([targets_unnorm.min(), targets_unnorm.max()], \n",
        "#              [targets_unnorm.min(), targets_unnorm.max()], 'r--', lw=2)\n",
        "#     ax1.set_xlabel('True Formation Energy (eV)')\n",
        "#     ax1.set_ylabel('Predicted Formation Energy (eV)')\n",
        "#     ax1.set_title(f'{model_type.upper()} Test Predictions (R² = {test_results[\"r2\"]:.3f})')\n",
        "#     ax1.grid(True)\n",
        "    \n",
        "#     # Configuration and results summary - handle both model types\n",
        "#     if model_type == 'gnn':\n",
        "#         config_text = f\"\"\"Final Configuration:\n",
        "#     Hidden Dim: {config['hidden_dim']}\n",
        "#     Layers: {config['num_layers']}\n",
        "#     Dropout: {config['dropout']}\n",
        "#     Threshold: {config['threshold']} Å\n",
        "#     Learning Rate: {config['lr']:.0e}\n",
        "#     Batch Size: {config['batch_size']}\n",
        "\n",
        "#     Final Test Results:\n",
        "#     MAE (unnorm): {test_results['mae_unnorm']:.4f}\n",
        "#     MSE (unnorm): {test_results['mse_unnorm']:.4f}\n",
        "#     R²: {test_results['r2']:.4f}\n",
        "\n",
        "#     Training Info:\n",
        "#     Epochs trained: {results['epochs_trained']}/{config['num_epochs']}\n",
        "#     Model: {results['model_filename']}\"\"\"\n",
        "#     else:  # SMILES\n",
        "#         config_text = f\"\"\"Final Configuration:\n",
        "#     Embedding Dim: {config['emb_dim']}\n",
        "#     Hidden Dim: {config['hidden_dim']}\n",
        "#     Layers: {config['num_layers']}\n",
        "#     Dropout: {config['dropout']}\n",
        "#     Weight Decay: {config.get('weight_decay', 0):.0e}\n",
        "#     Learning Rate: {config['lr']:.0e}\n",
        "#     Batch Size: {config['batch_size']}\n",
        "\n",
        "#     Final Test Results:\n",
        "#     MAE (unnorm): {test_results['mae_unnorm']:.4f}\n",
        "#     MSE (unnorm): {test_results['mse_unnorm']:.4f}\n",
        "#     R²: {test_results['r2']:.4f}\n",
        "\n",
        "#     Training Info:\n",
        "#     Epochs trained: {results['epochs_trained']}/{config['num_epochs']}\n",
        "#     Model: {results['model_filename']}\"\"\"\n",
        "    \n",
        "#     ax2.text(0.05, 0.95, config_text, transform=ax2.transAxes, \n",
        "#              verticalalignment='top', fontfamily='monospace', fontsize=9,\n",
        "#              bbox=dict(boxstyle='round', facecolor='lightgray', alpha=0.8))\n",
        "#     ax2.set_xlim(0, 1)\n",
        "#     ax2.set_ylim(0, 1)\n",
        "#     ax2.axis('off')\n",
        "#     ax2.set_title('Experiment Summary')\n",
        "    \n",
        "#     plt.tight_layout()\n",
        "#     plt.show()"
      ]
    },
    {
      "cell_type": "code",
      "execution_count": 17,
      "metadata": {},
      "outputs": [],
      "source": [
        "def plot_results(results, config, model_type='gnn'):\n",
        "    \"\"\"Simple plot showing only training and validation loss curves\"\"\"\n",
        "    \n",
        "    val_metrics = results['val_metrics']\n",
        "    val_losses = [m['loss'] for m in val_metrics]\n",
        "    \n",
        "    # Single plot for loss only\n",
        "    fig, ax = plt.subplots(1, 1, figsize=(10, 6))\n",
        "    \n",
        "    # Loss curves\n",
        "    ax.plot(results['train_losses'], label='Train Loss', color='blue', linewidth=2)\n",
        "    ax.plot(val_losses, label='Val Loss', color='orange', linewidth=2)\n",
        "    ax.set_xlabel('Epoch', fontsize=12)\n",
        "    ax.set_ylabel('MSE Loss (normalized)', fontsize=12)\n",
        "    ax.set_title(f'{model_type.upper()} Model - Training and Validation Loss', fontsize=14)\n",
        "    ax.legend(fontsize=11)\n",
        "    ax.grid(True, alpha=0.3)\n",
        "    \n",
        "    # Add final loss values as text\n",
        "    final_train_loss = results['train_losses'][-1]\n",
        "    final_val_loss = val_losses[-1]\n",
        "    \n",
        "    ax.text(0.02, 0.98, f'Final Train Loss: {final_train_loss:.4f}\\nFinal Val Loss: {final_val_loss:.4f}', \n",
        "            transform=ax.transAxes, verticalalignment='top', fontsize=10,\n",
        "            bbox=dict(boxstyle='round', facecolor='white', alpha=0.8))\n",
        "    \n",
        "    plt.tight_layout()\n",
        "    plt.show()\n",
        "    \n",
        "    # Print summary\n",
        "    print(f\"\\n{model_type.upper()} Training Summary:\")\n",
        "    print(f\"Final Training Loss: {final_train_loss:.4f}\")\n",
        "    print(f\"Final Validation Loss: {final_val_loss:.4f}\")\n",
        "    print(f\"Total Epochs: {results['epochs_trained']}\")\n",
        "    print(f\"Model saved as: {results['model_filename']}\")"
      ]
    },
    {
      "cell_type": "code",
      "execution_count": null,
      "metadata": {},
      "outputs": [],
      "source": [
        "def run_training(config, model_type='gnn'):\n",
        "    \"\"\"Unified training function\"\"\"\n",
        "    \n",
        "    device = torch.device('cuda' if torch.cuda.is_available() else 'cpu')\n",
        "    print(f\"Using device: {device}\")\n",
        "    \n",
        "    # Set random seeds\n",
        "    np.random.seed(config['seed'])\n",
        "    torch.manual_seed(config['seed'])\n",
        "    if torch.cuda.is_available():\n",
        "        torch.cuda.manual_seed(config['seed'])\n",
        "    \n",
        "    # Split training data for validation\n",
        "    train_idx_split, val_idx_split = train_test_split(\n",
        "        train_idxes, test_size=config['val_split'], random_state=config['seed']\n",
        "    )\n",
        "    \n",
        "    print(f\"\\n{model_type.upper()} Data split:\")\n",
        "    print(f\"Training: {len(train_idx_split)} molecules\")\n",
        "    print(f\"Validation: {len(val_idx_split)} molecules\")\n",
        "    print(f\"Test: {len(test_idxes)} molecules\")\n",
        "\n",
        "    print(f\"TRAINING {model_type.upper()} MODEL\")\n",
        "    \n",
        "    start = time.time()\n",
        "    \n",
        "    # Create datasets and loaders based on model type\n",
        "    if model_type == 'gnn':\n",
        "        train_dataset = GeometricDataset(pos_data, type_data, fe, train_idx_split, config['threshold'])\n",
        "        val_dataset = GeometricDataset(pos_data, type_data, fe, val_idx_split, config['threshold'])\n",
        "        test_dataset = GeometricDataset(pos_data, type_data, fe, test_idxes, config['threshold'])\n",
        "        \n",
        "        train_loader = GeometricDataLoader(train_dataset, batch_size=config['batch_size'], shuffle=True)\n",
        "        val_loader = GeometricDataLoader(val_dataset, batch_size=config['batch_size'], shuffle=False)\n",
        "        test_loader = GeometricDataLoader(test_dataset, batch_size=config['batch_size'], shuffle=False)\n",
        "        \n",
        "        # Initialize GNN model\n",
        "        model = MolecularGNN(\n",
        "            num_atom_types=20, \n",
        "            hidden_dim=config['hidden_dim'], \n",
        "            num_layers=config['num_layers']\n",
        "        ).to(device)\n",
        "        \n",
        "    else:  # SMILES\n",
        "        train_dataset = SMILESDataset(smiles_data, fe, train_idx_split, char2idx, max_len)\n",
        "        val_dataset = SMILESDataset(smiles_data, fe, val_idx_split, char2idx, max_len)\n",
        "        test_dataset = SMILESDataset(smiles_data, fe, test_idxes, char2idx, max_len)\n",
        "        \n",
        "        train_loader = DataLoader(train_dataset, batch_size=config['batch_size'], \n",
        "                                shuffle=True, collate_fn=smiles_collate_fn)\n",
        "        val_loader = DataLoader(val_dataset, batch_size=config['batch_size'], \n",
        "                              shuffle=False, collate_fn=smiles_collate_fn)\n",
        "        test_loader = DataLoader(test_dataset, batch_size=config['batch_size'], \n",
        "                                shuffle=False, collate_fn=smiles_collate_fn)\n",
        "        \n",
        "        # Initialize LSTM model\n",
        "        model = ImprovedLSTM(\n",
        "            vocab_size=vocab_size,\n",
        "            emb_dim=config['emb_dim'],\n",
        "            hidden_dim=config['hidden_dim'], \n",
        "            num_layers=config['num_layers'],\n",
        "            dropout=config['dropout']\n",
        "        ).to(device)\n",
        "    \n",
        "    print(f\"Data loading time: {time.time() - start:.2f} seconds\")\n",
        "    print(f\"{model_type.upper()} Model parameters: {sum(p.numel() for p in model.parameters()):,}\")\n",
        "    \n",
        "    # Setup optimizer and scheduler\n",
        "    weight_decay = config.get('weight_decay', 0)  # Default 0 for GNN, specified for SMILES\n",
        "    optimizer = torch.optim.Adam(model.parameters(), lr=config['lr'], weight_decay=weight_decay)\n",
        "    scheduler = torch.optim.lr_scheduler.ReduceLROnPlateau(\n",
        "        optimizer, patience=config['scheduler_patience'], factor=config['scheduler_factor']\n",
        "    )\n",
        "    criterion = nn.MSELoss()\n",
        "\n",
        "    # Training loop\n",
        "    best_val_loss = float('inf')\n",
        "    train_losses = []\n",
        "    val_metrics = []\n",
        "    \n",
        "    start = time.time()\n",
        "    for epoch in range(config['num_epochs']):\n",
        "        # Train\n",
        "        train_loss = train_epoch(model, train_loader, optimizer, criterion, device, model_type)\n",
        "        \n",
        "        # Validate\n",
        "        val_results = evaluate(model, val_loader, criterion, device, model_type)\n",
        "        \n",
        "        # Store metrics\n",
        "        train_losses.append(train_loss)\n",
        "        val_metrics.append(val_results)\n",
        "        \n",
        "        # Learning rate scheduling\n",
        "        scheduler.step(val_results['loss'])\n",
        "        \n",
        "        # Save best model\n",
        "        if val_results['loss'] < best_val_loss:\n",
        "            best_val_loss = val_results['loss']\n",
        "            model_filename = generate_model_filename(config, model_type)\n",
        "            torch.save(model.state_dict(), model_filename)\n",
        "            print(f\"Saved new best {model_type.upper()} model: {model_filename}\")\n",
        "        \n",
        "        # Print progress\n",
        "        if (epoch + 1) % max(1, config['num_epochs'] // 10) == 0 or epoch == config['num_epochs'] - 1:\n",
        "            print(f\"Epoch {epoch+1}/{config['num_epochs']}:\")\n",
        "            print(f\"  Train Loss: {train_loss:.4f}\")\n",
        "            print(f\"  Val Loss: {val_results['loss']:.4f}\")\n",
        "            print(f\"  Val MAE (norm): {val_results['mae_norm']:.4f}, (unnorm): {val_results['mae_unnorm']:.4f}\")\n",
        "            print(f\"  Val MSE (norm): {val_results['mse_norm']:.4f}, (unnorm): {val_results['mse_unnorm']:.4f}\")\n",
        "            print(f\"  Val R²: {val_results['r2']:.4f}\")\n",
        "            print(f\"  Time elapsed: {time.time() - start:.2f} seconds\")\n",
        "\n",
        "    # Load best model and evaluate on test set\n",
        "    model_filename = generate_model_filename(config, model_type)\n",
        "    model.load_state_dict(torch.load(model_filename))\n",
        "    test_results = evaluate(model, test_loader, criterion, device, model_type)\n",
        "    \n",
        "\n",
        "    print(f\"FINAL {model_type.upper()} TEST RESULTS\")\n",
        "    print(f\"NORMALIZED METRICS:\")\n",
        "    print(f\"  Test MAE: {test_results['mae_norm']:.4f}\")\n",
        "    print(f\"  Test MSE: {test_results['mse_norm']:.4f}\")\n",
        "    print(f\"  Test R²:  {test_results['r2']:.4f}\")\n",
        "    print(f\"\\nUNNORMALIZED METRICS:\")\n",
        "    print(f\"  Test MAE: {test_results['mae_unnorm']:.4f}\")\n",
        "    print(f\"  Test MSE: {test_results['mse_unnorm']:.4f}\")\n",
        "    print(f\"\\nModel saved as: {model_filename}\")\n",
        "  \n",
        "    \n",
        "    return {\n",
        "        'train_losses': train_losses,\n",
        "        'val_metrics': val_metrics,\n",
        "        'test_results': test_results,\n",
        "        'model_filename': model_filename,\n",
        "        'epochs_trained': len(train_losses)\n",
        "    }"
      ]
    },
    {
      "cell_type": "code",
      "execution_count": null,
      "metadata": {},
      "outputs": [],
      "source": [
        "CONFIG_GNN = {\n",
        "        # MODEL ARCHITECTURE\n",
        "        'hidden_dim': 64,        # Hidden dimension (64, 128, 256, 512)\n",
        "        'num_layers': 3,          # Number of GNN layers (2, 3, 4, 5, 6)\n",
        "        'dropout': 0,             # Dropout rate (0.0, 0.1, 0.2, 0.3)\n",
        "        'threshold': 2.5,         # Distance threshold in Angstroms (2.0, 2.5, 3.0, 3.5, 4.0)\n",
        "        \n",
        "        # TRAINING PARAMETERS\n",
        "        'lr': 1e-3,               # Learning rate (1e-4, 5e-4, 1e-3, 2e-3, 5e-3)\n",
        "        'batch_size': 32,         # Batch size (16, 32, 64, 128)\n",
        "        'num_epochs': 10,         # Number of training epochs\n",
        "        'scheduler_patience': 10, # LR scheduler patience (reduces LR when val loss plateaus)\n",
        "        'scheduler_factor': 0.5,  # LR reduction factor\n",
        "        \n",
        "        # OTHER\n",
        "        'seed': 69,               # Random seed for reproducibility\n",
        "        'val_split': 0.1,         # Validation split (0.1 = 10%)\n",
        "    }\n",
        "    \n",
        "    \n",
        "CONFIG_SMILES = {\n",
        "    # MODEL ARCHITECTURE\n",
        "    'emb_dim': 64,            # Embedding dimension (32, 64, 128)\n",
        "    'hidden_dim': 128,        # LSTM hidden dimension (64, 128, 256)\n",
        "    'num_layers': 2,          # Number of LSTM layers (1, 2, 3)\n",
        "    'dropout': 0.1,           # Dropout rate (0.0, 0.1, 0.2, 0.3)\n",
        "    \n",
        "    # TRAINING PARAMETERS\n",
        "    'lr': 1e-3,               # Learning rate (1e-4, 5e-4, 1e-3, 2e-3)\n",
        "    'weight_decay': 1e-5,     # L2 regularization\n",
        "    'batch_size': 64,         # Batch size (32, 64, 128)\n",
        "    'num_epochs': 15,         # Number of training epochs\n",
        "    'scheduler_patience': 5,  # LR scheduler patience\n",
        "    'scheduler_factor': 0.5,  # LR reduction factor\n",
        "    \n",
        "    # OTHER\n",
        "    'seed': 69,               # Random seed for reproducibility\n",
        "    'val_split': 0.1,         # Validation split (0.1 = 10%)\n",
        "}\n",
        "\n",
        "\n",
        "    \n"
      ]
    },
    {
      "cell_type": "code",
      "execution_count": 20,
      "metadata": {},
      "outputs": [
        {
          "name": "stdout",
          "output_type": "stream",
          "text": [
            "Using device: cuda\n",
            "\n",
            "GNN Data split:\n",
            "Training: 107110 molecules\n",
            "Validation: 11902 molecules\n",
            "Test: 10000 molecules\n",
            "\n",
            "================================================================================\n",
            "TRAINING GNN MODEL\n",
            "================================================================================\n",
            "Creating 107110 molecular graphs with threshold=2.5...\n"
          ]
        },
        {
          "name": "stderr",
          "output_type": "stream",
          "text": [
            "100%|██████████| 107110/107110 [01:20<00:00, 1330.00it/s]\n"
          ]
        },
        {
          "name": "stdout",
          "output_type": "stream",
          "text": [
            "Creating 11902 molecular graphs with threshold=2.5...\n"
          ]
        },
        {
          "name": "stderr",
          "output_type": "stream",
          "text": [
            "100%|██████████| 11902/11902 [00:08<00:00, 1356.80it/s]\n"
          ]
        },
        {
          "name": "stdout",
          "output_type": "stream",
          "text": [
            "Creating 10000 molecular graphs with threshold=2.5...\n"
          ]
        },
        {
          "name": "stderr",
          "output_type": "stream",
          "text": [
            "100%|██████████| 10000/10000 [00:07<00:00, 1325.92it/s]\n"
          ]
        },
        {
          "name": "stdout",
          "output_type": "stream",
          "text": [
            "Data loading time: 97.06 seconds\n",
            "GNN Model parameters: 82,817\n"
          ]
        },
        {
          "name": "stderr",
          "output_type": "stream",
          "text": [
            "                                                                         \r"
          ]
        },
        {
          "name": "stdout",
          "output_type": "stream",
          "text": [
            "Saved new best GNN model: gnn_h64_l3_t2.5_lr1e-03_bs32_e2.pt\n",
            "Epoch 1/2:\n",
            "  Train Loss: 0.1499\n",
            "  Val Loss: 0.0539\n",
            "  Val MAE (norm): 0.1649, (unnorm): 1.7003\n",
            "  Val MSE (norm): 0.0539, (unnorm): 5.7289\n",
            "  Val R²: 0.9459\n",
            "  Time elapsed: 64.60 seconds\n"
          ]
        },
        {
          "name": "stderr",
          "output_type": "stream",
          "text": [
            "                                                                         \r"
          ]
        },
        {
          "name": "stdout",
          "output_type": "stream",
          "text": [
            "Saved new best GNN model: gnn_h64_l3_t2.5_lr1e-03_bs32_e2.pt\n",
            "Epoch 2/2:\n",
            "  Train Loss: 0.0336\n",
            "  Val Loss: 0.0297\n",
            "  Val MAE (norm): 0.1223, (unnorm): 1.2611\n",
            "  Val MSE (norm): 0.0296, (unnorm): 3.1521\n",
            "  Val R²: 0.9702\n",
            "  Time elapsed: 138.99 seconds\n",
            "FINAL GNN TEST RESULTS\n",
            "NORMALIZED METRICS:\n",
            "  Test MAE: 0.1206\n",
            "  Test MSE: 0.0280\n",
            "  Test R²:  0.9723\n",
            "\n",
            "UNNORMALIZED METRICS:\n",
            "  Test MAE: 1.2435\n",
            "  Test MSE: 2.9786\n",
            "\n",
            "Model saved as: gnn_h64_l3_t2.5_lr1e-03_bs32_e2.pt\n",
            "Model saved as: gnn_h64_l3_t2.5_lr1e-03_bs32_e2.pt\n"
          ]
        },
        {
          "data": {
            "image/png": "[encoded data removed]",
            "text/plain": [
              "<Figure size 1000x600 with 1 Axes>"
            ]
          },
          "metadata": {},
          "output_type": "display_data"
        },
        {
          "name": "stdout",
          "output_type": "stream",
          "text": [
            "\n",
            "GNN Training Summary:\n",
            "Final Training Loss: 0.0336\n",
            "Final Validation Loss: 0.0297\n",
            "Total Epochs: 2\n",
            "Model saved as: gnn_h64_l3_t2.5_lr1e-03_bs32_e2.pt\n"
          ]
        }
      ],
      "source": [
        "# Run training with the configuration\n",
        "results_GNN = run_training(CONFIG_GNN, 'gnn')\n",
        "print(f\"Model saved as: {results_GNN['model_filename']}\")\n",
        "\n",
        "# Plot results\n",
        "plot_results(results_GNN, CONFIG_GNN, 'gnn')"
      ]
    },
    {
      "cell_type": "code",
      "execution_count": 21,
      "metadata": {},
      "outputs": [
        {
          "name": "stdout",
          "output_type": "stream",
          "text": [
            "Using device: cuda\n",
            "\n",
            "SMILES Data split:\n",
            "Training: 107110 molecules\n",
            "Validation: 11902 molecules\n",
            "Test: 10000 molecules\n",
            "\n",
            "================================================================================\n",
            "TRAINING SMILES MODEL\n",
            "================================================================================\n",
            "Processing 107110 SMILES sequences...\n"
          ]
        },
        {
          "name": "stderr",
          "output_type": "stream",
          "text": [
            "Tokenizing SMILES: 100%|██████████| 107110/107110 [00:00<00:00, 163318.84it/s]\n"
          ]
        },
        {
          "name": "stdout",
          "output_type": "stream",
          "text": [
            "Processing 11902 SMILES sequences...\n"
          ]
        },
        {
          "name": "stderr",
          "output_type": "stream",
          "text": [
            "Tokenizing SMILES: 100%|██████████| 11902/11902 [00:00<00:00, 152233.17it/s]\n"
          ]
        },
        {
          "name": "stdout",
          "output_type": "stream",
          "text": [
            "Processing 10000 SMILES sequences...\n"
          ]
        },
        {
          "name": "stderr",
          "output_type": "stream",
          "text": [
            "Tokenizing SMILES: 100%|██████████| 10000/10000 [00:00<00:00, 159233.43it/s]\n"
          ]
        },
        {
          "name": "stdout",
          "output_type": "stream",
          "text": [
            "Data loading time: 1.60 seconds\n",
            "SMILES Model parameters: 233,473\n"
          ]
        },
        {
          "name": "stderr",
          "output_type": "stream",
          "text": [
            "                                                                            \r"
          ]
        },
        {
          "name": "stdout",
          "output_type": "stream",
          "text": [
            "Saved new best SMILES model: lstm_emb64_h128_l2_lr1e-03_bs64_e2.pt\n",
            "Epoch 1/2:\n",
            "  Train Loss: 0.1280\n",
            "  Val Loss: 0.0180\n",
            "  Val MAE (norm): 0.0975, (unnorm): 1.0056\n",
            "  Val MSE (norm): 0.0180, (unnorm): 1.9155\n",
            "  Val R²: 0.9819\n",
            "  Time elapsed: 48.71 seconds\n"
          ]
        },
        {
          "name": "stderr",
          "output_type": "stream",
          "text": [
            "                                                                            \r"
          ]
        },
        {
          "name": "stdout",
          "output_type": "stream",
          "text": [
            "Epoch 2/2:\n",
            "  Train Loss: 0.0405\n",
            "  Val Loss: 0.0269\n",
            "  Val MAE (norm): 0.1390, (unnorm): 1.4329\n",
            "  Val MSE (norm): 0.0269, (unnorm): 2.8621\n",
            "  Val R²: 0.9730\n",
            "  Time elapsed: 91.43 seconds\n",
            "FINAL SMILES TEST RESULTS\n",
            "NORMALIZED METRICS:\n",
            "  Test MAE: 0.0966\n",
            "  Test MSE: 0.0173\n",
            "  Test R²:  0.9829\n",
            "\n",
            "UNNORMALIZED METRICS:\n",
            "  Test MAE: 0.9958\n",
            "  Test MSE: 1.8361\n",
            "\n",
            "Model saved as: lstm_emb64_h128_l2_lr1e-03_bs64_e2.pt\n",
            "Model saved as: lstm_emb64_h128_l2_lr1e-03_bs64_e2.pt\n"
          ]
        },
        {
          "data": {
            "image/png": "[encoded data removed]",
            "text/plain": [
              "<Figure size 1000x600 with 1 Axes>"
            ]
          },
          "metadata": {},
          "output_type": "display_data"
        },
        {
          "name": "stdout",
          "output_type": "stream",
          "text": [
            "\n",
            "SMILES Training Summary:\n",
            "Final Training Loss: 0.0405\n",
            "Final Validation Loss: 0.0269\n",
            "Total Epochs: 2\n",
            "Model saved as: lstm_emb64_h128_l2_lr1e-03_bs64_e2.pt\n"
          ]
        }
      ],
      "source": [
        "# Run training with the configuration\n",
        "results_SMILES = run_training(CONFIG_SMILES, 'smiles')\n",
        "print(f\"Model saved as: {results_SMILES['model_filename']}\")\n",
        "\n",
        "# Plot results\n",
        "plot_results(results_SMILES, CONFIG_SMILES, 'smiles')"
      ]
    },
    {
      "cell_type": "markdown",
      "metadata": {
        "id": "n0zvKnpLGf9v"
      },
      "source": [
        "## Task 2"
      ]
    },
    {
      "cell_type": "code",
      "execution_count": null,
      "metadata": {
        "id": "AC1KICrZGgkY"
      },
      "outputs": [],
      "source": []
    },
    {
      "cell_type": "markdown",
      "metadata": {
        "id": "5mIuOY4BGxqU"
      },
      "source": [
        "## Task 3"
      ]
    },
    {
      "cell_type": "code",
      "execution_count": 22,
      "metadata": {
        "id": "z_NgxsO3GxEE"
      },
      "outputs": [],
      "source": [
        "def is_valid_smiles(smiles):\n",
        "    if smiles is None:\n",
        "        return False\n",
        "    try:\n",
        "        mol = Chem.MolFromSmiles(smiles)\n",
        "        return mol is not None\n",
        "    except:\n",
        "        return False\n",
        "\n",
        "def canonicalize(smiles):\n",
        "    try:\n",
        "        mol = Chem.MolFromSmiles(smiles)\n",
        "        if mol:\n",
        "            return Chem.MolToSmiles(mol, canonical=True)\n",
        "        return 'None'\n",
        "    except:\n",
        "        return 'None'"
      ]
    },
    {
      "cell_type": "code",
      "execution_count": 23,
      "metadata": {
        "id": "SN_jGgOwG4kK"
      },
      "outputs": [
        {
          "data": {
            "text/plain": [
              "('COO', 'COO')"
            ]
          },
          "execution_count": 23,
          "metadata": {},
          "output_type": "execute_result"
        }
      ],
      "source": [
        "canonicalize(\"COO\"), canonicalize(\"O(C)O\")"
      ]
    },
    {
      "cell_type": "code",
      "execution_count": 24,
      "metadata": {
        "id": "-bhjYhYrHCuQ"
      },
      "outputs": [
        {
          "data": {
            "text/plain": [
              "(True, True, False)"
            ]
          },
          "execution_count": 24,
          "metadata": {},
          "output_type": "execute_result"
        }
      ],
      "source": [
        "is_valid_smiles(\"COO\"), is_valid_smiles(\"O(C)O\"), is_valid_smiles(\"C##\")"
      ]
    },
    {
      "cell_type": "code",
      "execution_count": null,
      "metadata": {
        "id": "0_YgzDpMH-Vl"
      },
      "outputs": [],
      "source": []
    }
  ],
  "metadata": {
    "colab": {
      "provenance": []
    },
    "kernelspec": {
      "display_name": "venv",
      "language": "python",
      "name": "python3"
    },
    "language_info": {
      "codemirror_mode": {
        "name": "ipython",
        "version": 3
      },
      "file_extension": ".py",
      "mimetype": "text/x-python",
      "name": "python",
      "nbconvert_exporter": "python",
      "pygments_lexer": "ipython3",
      "version": "3.11.9"
    }
  },
  "nbformat": 4,
  "nbformat_minor": 0
}
